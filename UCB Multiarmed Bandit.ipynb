{
 "cells": [
  {
   "cell_type": "code",
   "execution_count": 4,
   "metadata": {
    "collapsed": true
   },
   "outputs": [],
   "source": [
    "def get_df(indexes):\n",
    "    return pd.DataFrame([0 for x in range(len(indexes))], indexes)\n",
    "\n",
    "def get_actions(batch):\n",
    "    return batch.groupby([\"recommender_name\"]).count()[\"success\"]\n",
    "\n",
    "def update(indexes, batch, collector):\n",
    "    actions = get_actions(batch)\n",
    "    for arm in indexes:\n",
    "        if arm in batch[\"recommender_name\"].unique():\n",
    "            collector.loc[arm] += actions.loc[arm]\n",
    "    return collector\n",
    "\n",
    "def reset(indexes, batch, collector, df, num_batch, period):\n",
    "    actions = get_actions(batch)\n",
    "    for arm in indexes:\n",
    "        if arm in batch[\"recommender_name\"].unique():\n",
    "            collector.loc[arm] = actions.loc[arm]\n",
    "    if df.shape[1] < period:\n",
    "        df[str(num_batch)] = collector\n",
    "    else:\n",
    "        del df[df.columns[0]]\n",
    "        df[str(num_batch)] = collector\n",
    "    return df.sum(axis = 1)\n"
   ]
  },
  {
   "cell_type": "code",
   "execution_count": 5,
   "metadata": {
    "collapsed": true
   },
   "outputs": [],
   "source": [
    "class CTR():\n",
    "    def __init__(self, data, indexes, period):\n",
    "        self.data = data\n",
    "        self.indexes = indexes\n",
    "        self.period = period\n",
    "        self.arms_gains = get_df(self.indexes)\n",
    "        self.arms_plays = get_df(self.indexes)\n",
    "        self.arms_ctrs = get_df(self.indexes)\n",
    "        self.num_batch = 0\n",
    "        self.all_gains = get_df(self.indexes)\n",
    "        self.all_plays = get_df(self.indexes)\n",
    "\n",
    "    def get_CTR_zero(self, batch):\n",
    "        good_sample = batch[batch.success.apply(lambda s: s == 1)]\n",
    "        self.arms_gains = update(self.indexes, self.good_sample, self.arms_gains)\n",
    "        self.arms_plays = update(self.indexes, batch, self.arms_plays)\n",
    "        self.num_batch += 1\n",
    "        ctrs = self.arms_gains/self.arms_plays\n",
    "        ctrs.fillna(0, inplace = True)\n",
    "\n",
    "        if self.num_batch > self.period:\n",
    "            self.arms_gains = get_df(self.indexes)\n",
    "            self.arms_plays = get_df(self.indexes)\n",
    "            self.num_batch = 0\n",
    "        return ctrs[0]          \n",
    "        \n",
    "    def get_CTR_win(self, batch):\n",
    "        self.arms_gains = get_df(self.indexes)\n",
    "        self.arms_plays = get_df(self.indexes)\n",
    "        self.num_batch += 1\n",
    "        \n",
    "        good_sample = batch[batch.success.apply(lambda s: s == 1)]\n",
    "        self.sum_all_gains = reset(self.indexes, good_sample, self.arms_gains, self.all_gains, self.num_batch, self.period)\n",
    "        self.sum_all_plays = reset(self.indexes, batch, self.arms_plays, self.all_plays, self.num_batch, self.period)\n",
    "        \n",
    "        ctrs = self.sum_all_gains/self.sum_all_plays\n",
    "        ctrs.fillna(0, inplace = True)\n",
    "        \n",
    "        return ctrs\n",
    "       \n",
    "def get_scalar(ctr, p_proba):\n",
    "    ctr_s = pd.DataFrame.from_dict(ctr, orient='index', dtype=None).sort_index()\n",
    "    p_proba_s = pd.DataFrame.from_dict(p_proba, orient='index', dtype=None).sort_index()\n",
    "    scalar = ctr_s[0].dot(p_proba_s[0])\n",
    "    return scalar"
   ]
  },
  {
   "cell_type": "code",
   "execution_count": 6,
   "metadata": {
    "collapsed": true
   },
   "outputs": [],
   "source": [
    "#Бандит, обнуляющий результаты испытаний раз в заданный период period\n",
    "class Bandit():\n",
    "\n",
    "    def __init__(self, data, indexes, period):\n",
    "        self.data = data\n",
    "        self.period = period\n",
    "        self.indexes = indexes\n",
    "        self.arms_gains = get_df(self.indexes)\n",
    "        self.arms_plays =  get_df(self.indexes)\n",
    "        self.arms_ctr =  get_df(self.indexes)\n",
    "        self.all_gains = pd.DataFrame([0 for x in range(len(indexes))], indexes, [\"0\"])\n",
    "        self.all_plays = pd.DataFrame([0 for x in range(len(indexes))], indexes, [\"0\"])\n",
    "        self.num_batch = 0\n",
    "\n",
    "    def partial_fit(self, batch, step):\n",
    "        self.step = step\n",
    "        good_sample = batch[batch.success.apply(lambda s: s == 1)] \n",
    "        self.arms_gains = update(indexes, good_sample, self.arms_gains)\n",
    "        self.arms_plays = update(indexes, batch, self.arms_plays)\n",
    "        self.num_batch += 1\n",
    "        if self.num_batch > self.period:\n",
    "            self.arms_gains = get_df(self.indexes)\n",
    "            self.arms_plays = get_df(self.indexes)\n",
    "            self.num_batch = 0\n",
    "        return self \n",
    "          \n",
    "    def upperBound(self, Num_of_draws):\n",
    "        if Num_of_draws == 0:\n",
    "            Num_of_draws = 0.1\n",
    "        return math.sqrt(2 * math.log(self.step) / Num_of_draws)\n",
    "\n",
    "    def ucb1_probs(self):\n",
    "        ctrs = self.arms_gains/self.arms_plays\n",
    "        ctrs.fillna(0, inplace = True)\n",
    "        upperbounds = pd.DataFrame([ctrs.iloc[i] + self.upperBound(self.arms_plays.iloc[i][0]) for i in range(len(ctrs))], self.indexes)        \n",
    "        ub_weights = pd.DataFrame([upperbounds.iloc[i]/upperbounds.sum(axis = 0)[0] if upperbounds.sum(axis = 0)[0] !=0 else 0 for i in range(len(upperbounds))], self.indexes)\n",
    "        return ub_weights[0]\n",
    " \n",
    "    def predict_proba(self):\n",
    "         return self.ucb1_probs()\n",
    "    \n",
    "    def predict(self):\n",
    "        return self.predict_proba().idxmax()"
   ]
  },
  {
   "cell_type": "code",
   "execution_count": 7,
   "metadata": {
    "collapsed": true
   },
   "outputs": [],
   "source": [
    "#кумулятивный бандит, накапливающий результаты испытаний\n",
    "class Bandit_cum(Bandit):\n",
    "    def partial_fit(self, batch, step):\n",
    "        self.step = step\n",
    "        good_sample = batch[batch.success.apply(lambda s: s == 1)]\n",
    "        self.arms_gains = update(indexes, good_sample, self.arms_gains)\n",
    "        self.arms_plays = update(indexes, batch, self.arms_plays)\n",
    "        return self"
   ]
  },
  {
   "cell_type": "code",
   "execution_count": 8,
   "metadata": {
    "collapsed": true
   },
   "outputs": [],
   "source": [
    "#бандит, накапливающий результаты испытаниq за определенный интервал-скользящее окно (win=window)\n",
    "class Bandit_win(Bandit):\n",
    "    \n",
    "    def partial_fit(self, batch, step):\n",
    "        self.arms_gains = get_df(self.indexes)\n",
    "        self.arms_plays = get_df(self.indexes)\n",
    "        self.num_batch += 1\n",
    "        self.step = step\n",
    "        good_sample = batch[batch.success.apply(lambda s: s == 1)]\n",
    "        self.sum_all_gains = reset(self.indexes, good_sample, self.arms_gains, self.all_gains, self.num_batch, self.period)\n",
    "        self.sum_all_plays = reset(self.indexes, batch, self.arms_plays, self.all_plays, self.num_batch, self.period)\n",
    "        return self\n",
    "    \n",
    "    def ucb1_probs(self):\n",
    "        ctrs = self.sum_all_gains/self.sum_all_plays\n",
    "        ctrs.fillna(0, inplace = True)\n",
    "        upperbounds = pd.DataFrame([ctrs.iloc[i] + self.upperBound(self.sum_all_plays.iloc[i]) for i in range(len(ctrs))], self.indexes)  \n",
    "        ub_weights = pd.DataFrame([upperbounds.iloc[i]/upperbounds.sum(axis = 0)[0] if upperbounds.sum(axis = 0)[0] !=0 else 0  for i in range(len(upperbounds))], self.indexes)\n",
    "        return ub_weights[0]"
   ]
  },
  {
   "cell_type": "code",
   "execution_count": 11,
   "metadata": {
    "collapsed": false,
    "scrolled": true
   },
   "outputs": [
    {
     "name": "stderr",
     "output_type": "stream",
     "text": [
      "1000it [00:55, 17.41it/s]"
     ]
    },
    {
     "name": "stdout",
     "output_type": "stream",
     "text": [
      "0.0047867902156251375\n",
      "0.0258911213029\n"
     ]
    },
    {
     "name": "stderr",
     "output_type": "stream",
     "text": [
      "\n"
     ]
    }
   ],
   "source": [
    "#trials for bandits\n",
    "period = 60\n",
    "period_ctr = 30\n",
    "b = Bandit_cum(data, indexes, period)\n",
    "c = CTR(data, indexes, period_ctr)\n",
    "scalars = []\n",
    "step = 0\n",
    "right_answers = 0\n",
    "\n",
    "for batch_id, next_batch_id in tqdm(zip(batches_id[:-1], batches_id[1:])):\n",
    "    step += 1\n",
    "    batch = data[data[\"1_min_interval\"] == batch_id]\n",
    "    next_batch = data[data[\"1_min_interval\"] == next_batch_id]    \n",
    "    b.partial_fit(batch, step)\n",
    "    p_proba = b.predict_proba()\n",
    "    p = b.predict()\n",
    "    ctr = c.get_CTR_win(next_batch)\n",
    "    winner_UB = p\n",
    "    winner_CTR = ctr.idxmax()\n",
    "    scalar = ctr.dot(p_proba)\n",
    "    scalars.append(scalar)\n",
    "    \n",
    "    if winner_UB == winner_CTR:\n",
    "        right_answers += 1\n",
    "    \n",
    "    if step > 1000:\n",
    "        break\n",
    "    \n",
    "print(right_answers/(len(batches_id)))\n",
    "print(sum(scalars)/len(scalars))\n"
   ]
  },
  {
   "cell_type": "code",
   "execution_count": null,
   "metadata": {
    "collapsed": true
   },
   "outputs": [],
   "source": []
  },
  {
   "cell_type": "code",
   "execution_count": 20,
   "metadata": {
    "collapsed": false
   },
   "outputs": [
    {
     "data": {
      "image/png": "[encoded data removed]",
      "text/plain": [
       "<matplotlib.figure.Figure at 0x7fc94ae470f0>"
      ]
     },
     "metadata": {},
     "output_type": "display_data"
    }
   ],
   "source": [
    "import matplotlib.pyplot as plt\n",
    "\n",
    "plt.plot(scalars)\n",
    "plt.show()"
   ]
  },
  {
   "cell_type": "code",
   "execution_count": null,
   "metadata": {
    "collapsed": true
   },
   "outputs": [],
   "source": []
  },
  {
   "cell_type": "code",
   "execution_count": null,
   "metadata": {
    "collapsed": true
   },
   "outputs": [],
   "source": []
  }
 ],
 "metadata": {
  "anaconda-cloud": {},
  "kernelspec": {
   "display_name": "Python [default]",
   "language": "python",
   "name": "python3"
  },
  "language_info": {
   "codemirror_mode": {
    "name": "ipython",
    "version": 3
   },
   "file_extension": ".py",
   "mimetype": "text/x-python",
   "name": "python",
   "nbconvert_exporter": "python",
   "pygments_lexer": "ipython3",
   "version": "3.5.2"
  }
 },
 "nbformat": 4,
 "nbformat_minor": 2
}
